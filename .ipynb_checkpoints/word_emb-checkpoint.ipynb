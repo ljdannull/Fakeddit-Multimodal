{
 "cells": [
  {
   "cell_type": "code",
   "execution_count": 1,
   "id": "e92a7599",
   "metadata": {},
   "outputs": [
    {
     "name": "stderr",
     "output_type": "stream",
     "text": [
      "/Users/lukasdannull/opt/anaconda3/lib/python3.9/site-packages/pandas/core/computation/expressions.py:21: UserWarning: Pandas requires version '2.8.4' or newer of 'numexpr' (version '2.8.1' currently installed).\n",
      "  from pandas.core.computation.check import NUMEXPR_INSTALLED\n",
      "/Users/lukasdannull/opt/anaconda3/lib/python3.9/site-packages/pandas/core/arrays/masked.py:60: UserWarning: Pandas requires version '1.3.6' or newer of 'bottleneck' (version '1.3.4' currently installed).\n",
      "  from pandas.core import (\n"
     ]
    }
   ],
   "source": [
    "import pandas as pd"
   ]
  },
  {
   "cell_type": "code",
   "execution_count": 2,
   "id": "96c58a4c",
   "metadata": {},
   "outputs": [],
   "source": [
    "subsample = pd.read_csv('subsample_with_img.csv', index_col=0)"
   ]
  },
  {
   "cell_type": "code",
   "execution_count": 4,
   "id": "9e55c20b",
   "metadata": {},
   "outputs": [
    {
     "name": "stdout",
     "output_type": "stream",
     "text": [
      "1501    [0.21166992, 0.13748169, -0.05898285, 0.170104...\n",
      "810     [0.092480466, 0.018792724, -0.0630127, 0.14287...\n",
      "1263    [0.08695475, 0.086629234, 0.0033976238, 0.1502...\n",
      "1269    [0.07114955, 0.1547154, 0.066515245, 0.0806187...\n",
      "804     [0.07519531, 0.059244793, -0.05053711, -0.0174...\n",
      "Name: embedding, dtype: object\n"
     ]
    }
   ],
   "source": [
    "import pandas as pd\n",
    "import numpy as np\n",
    "from gensim.models import KeyedVectors\n",
    "\n",
    "# can download this google word2vec file online. Didn't put it in the repo cause it's too big\n",
    "word2vec_model = KeyedVectors.load_word2vec_format('GoogleNews-vectors-negative300.bin', binary=True)\n",
    "\n",
    "def get_word_embedding(word):\n",
    "    if word in word2vec_model:\n",
    "        return word2vec_model[word]\n",
    "    else:\n",
    "        return None\n",
    "\n",
    "def get_sentence_embedding(text):\n",
    "    words = text.split()\n",
    "    embeddings = [get_word_embedding(word) for word in words if get_word_embedding(word) is not None]\n",
    "    if embeddings:\n",
    "        return np.mean(embeddings, axis=0)\n",
    "\n",
    "subsample['embedding'] = subsample['clean_title'].apply(get_sentence_embedding)\n",
    "\n",
    "subsample['embedding'].head()\n"
   ]
  },
  {
   "cell_type": "code",
   "execution_count": 6,
   "id": "9aa3d8ff",
   "metadata": {},
   "outputs": [],
   "source": [
    "subsample.to_csv('subsample_with_embeddings.csv')"
   ]
  },
  {
   "cell_type": "code",
   "execution_count": null,
   "id": "bf11e55b",
   "metadata": {},
   "outputs": [],
   "source": []
  }
 ],
 "metadata": {
  "kernelspec": {
   "display_name": "Python 3 (ipykernel)",
   "language": "python",
   "name": "python3"
  },
  "language_info": {
   "codemirror_mode": {
    "name": "ipython",
    "version": 3
   },
   "file_extension": ".py",
   "mimetype": "text/x-python",
   "name": "python",
   "nbconvert_exporter": "python",
   "pygments_lexer": "ipython3",
   "version": "3.9.12"
  }
 },
 "nbformat": 4,
 "nbformat_minor": 5
}
